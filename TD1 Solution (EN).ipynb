{
 "cells": [
  {
   "cell_type": "markdown",
   "metadata": {},
   "source": [
    "<h1 align=\"center\">TD 1: Introduction to graph theory with Networkx</h3> \n",
    "\n",
    "<h3 align=\"center\">Vincent Gauthier</h3>\n",
    "<h4 align=\"center\">vincent.gauthier@telecom-sudparis.eu</h4>\n",
    "\n",
    "<img src=\"./Images/webmap.jpg\"></img>\n",
    "\n",
    "# Getting Started\n",
    "\n",
    "## Installing Python (Anaconda)\n",
    "We recommend using the Anaconda Python distribution, as it bundles together many useful packages (including numpy, matplotlib, and IPython) that we will use throughout this class. To install Anaconda, please see [here](http://docs.continuum.io/anaconda/install). Make sure you get the version compatible with your OS (Mac, Linux, or Windows). If you'd like a more comprehensive document, please check out CS109's guide [here](https://github.com/cs109/content/wiki/Installing-Python).\n",
    "\n",
    "## Python Shell\n",
    "The Python Interactive Shell is a light-weight way to explore Python. It's commonly used for debugging, quick tasks, and as a calculator! To get to the shell, open Terminal and type `python`. More instructions are located [here](https://docs.python.org/2/tutorial/interpreter.html). The following sections will be done in the shell to allow you to get a feel for Python.\n",
    "\n",
    "# Python Basic\n",
    "## Lists\n",
    "\n",
    "Lists are basic Python structures that function as arrays. They can store all types of data. You can index a specific element using `[]` brackets, which comes in handy very frequently."
   ]
  },
  {
   "cell_type": "code",
   "execution_count": 1,
   "metadata": {
    "collapsed": false
   },
   "outputs": [
    {
     "data": {
      "text/html": [
       "<style>\n",
       "    div.cell{\n",
       "      width:800px;\n",
       "      margin-left:16% !important;\n",
       "      margin-right:auto;\n",
       "    }\n",
       "\n",
       "    h1,h2,h3,h4,h5 {\n",
       "      align: left;\n",
       "      font-family:\"Charis SIL\", serif;\n",
       "    }\n",
       "\n",
       "    div.text_cell_render{\n",
       "      width:800px;\n",
       "      font-family: \"Charis SIL\", sans-serif;\n",
       "      line-height: 145%;\n",
       "      font-size: 145%;\n",
       "      line-height: 145%;\n",
       "    }\n",
       "\n",
       "    .CodeMirror{\n",
       "      font-family: \"Source Code Pro\", monospace;\n",
       "    }\n",
       "\n",
       "    .prompt{\n",
       "      display: None;\n",
       "    }\n",
       "\n",
       "    .text_cell_render h5 {\n",
       "      font-weight: 300;\n",
       "      font-size: 22pt;\n",
       "      color: #4057A1;\n",
       "      font-style: italic;\n",
       "      margin-bottom: .5em;\n",
       "      margin-top: 0.5em;\n",
       "      display: block;\n",
       "    }\n",
       "\n",
       "    div.warn {\n",
       "      margin-top: 30px;\n",
       "      background-color: #fcf2f2;\n",
       "      border-color: #dFb5b4;\n",
       "      border-left: 5px solid #dfb5b4;\n",
       "      padding: 0.5em;\n",
       "    }\n",
       "\n",
       "    div.green {\n",
       "      margin-top: 30px;\n",
       "      background-color: #adf08d;\n",
       "      border-color: #34c123;\n",
       "      border-left: 5px solid #34c123;\n",
       "      padding: 0.5em;\n",
       "    }\n",
       "\n",
       "</style>\n",
       "<script>\n",
       "    MathJax.Hub.Config({\n",
       "      TeX: {\n",
       "        extensions: [\"AMSmath.js\"],\n",
       "        //equationNumbers: { autoNumber: \"AMS\" , useLabelIds: false}\n",
       "      },\n",
       "      tex2jax: {\n",
       "        inlineMath: [ ['$','$'], [\"\\\\(\",\"\\\\)\"] ],\n",
       "        displayMath: [ ['$$','$$'], [\"\\\\[\",\"\\\\]\"] ],\n",
       "        processEscapes: true,\n",
       "        processEnvironments: true\n",
       "      },\n",
       "      displayAlign: 'center',\n",
       "      \"HTML-CSS\": {\n",
       "        styles: {'.MathJax_Display': {\"margin\": 4}}\n",
       "      }\n",
       "    });\n",
       "</script>\n"
      ],
      "text/plain": [
       "<IPython.core.display.HTML object>"
      ]
     },
     "execution_count": 1,
     "metadata": {},
     "output_type": "execute_result"
    }
   ],
   "source": [
    "# Style pour le Notebook\n",
    "from IPython.core.display import HTML\n",
    "\n",
    "def css_styling():\n",
    "    styles = open(\"./Styles/custom.css\", \"r\").read()\n",
    "    return HTML(styles)\n",
    "css_styling()"
   ]
  },
  {
   "cell_type": "code",
   "execution_count": null,
   "metadata": {
    "collapsed": false
   },
   "outputs": [],
   "source": [
    "# Variable assignment\n",
    "a = 3\n",
    "b = 2\n",
    "print(a + b)  # 5\n",
    "\n",
    "c = []\n",
    "d = [1,2]"
   ]
  },
  {
   "cell_type": "code",
   "execution_count": null,
   "metadata": {
    "collapsed": false
   },
   "outputs": [],
   "source": [
    "# List basics\n",
    "print('List basics:')\n",
    "list_a = []\n",
    "list_b = [1,2,3,4,5,6]\n",
    "print('list b:', list_b)\n",
    "second_elt_in_list_b = list_b[1]  # remember, we index from 0\n",
    "print('second element in list b:', second_elt_in_list_b)\n",
    "tmp = [1,3,4]\n",
    "sub_list_list_b = [list_b[i] for i in tmp]\n",
    "print('sub list:', sub_list_list_b)\n",
    "list_b.append(7)\n",
    "print('new list b:', list_b)\n",
    "last_elt_b = list_b[-1]\n",
    "last_elt_b_2 = list_b[len(list_b)-1]\n",
    "print('last element two ways:', last_elt_b, last_elt_b_2)\n",
    "print('\\n')  # newline character\n",
    "\n",
    "# List of lists\n",
    "print('List of lists:')\n",
    "list_of_lists_c = [list_a,list_b]\n",
    "print('list of lists c:', list_of_lists_c)\n",
    "list_of_lists_c.append([3,4,5])\n",
    "print('new list of lists c:', list_of_lists_c)\n",
    "third_list_in_c = list_of_lists_c[2]\n",
    "print('third list in c:', third_list_in_c)\n",
    "second_elt_of_third_list_in_c = list_of_lists_c[2][1]\n",
    "print('second element of third list in c:', second_elt_of_third_list_in_c)\n",
    "print('\\n')"
   ]
  },
  {
   "cell_type": "markdown",
   "metadata": {},
   "source": [
    "## Conditional Statements\n",
    "\n",
    "Conditional statements and loops are useful control structures that allow you to structure the way your program will execute. Note that Python cares about whitespace; proper indentation after conditional statements and function definitions (in the next section) is key to avoiding syntax errors, even in the Interactive Shell."
   ]
  },
  {
   "cell_type": "code",
   "execution_count": null,
   "metadata": {
    "collapsed": false
   },
   "outputs": [],
   "source": [
    "# Conditional statements\n",
    "if 1 > 0:\n",
    "    print('1 > 0')\n",
    "    \n",
    "if 1 < 0:\n",
    "    print('1 < 0')\n",
    "else:\n",
    "    print('1 !< 0')\n",
    "    \n",
    "if 1 < 0:\n",
    "    print('1 < 0')\n",
    "elif 1 < 2:\n",
    "    print('1 < 2')\n",
    "else:\n",
    "    print('none of the above')"
   ]
  },
  {
   "cell_type": "markdown",
   "metadata": {},
   "source": [
    "## Loops"
   ]
  },
  {
   "cell_type": "code",
   "execution_count": null,
   "metadata": {
    "collapsed": false
   },
   "outputs": [],
   "source": [
    "# For loops\n",
    "for i in range(0,10):\n",
    "    print(i)\n",
    "    \n",
    "# looping through lists\n",
    "for x in list_b:\n",
    "    print(x)\n",
    "\n",
    "# While loops\n",
    "j = 0\n",
    "while j < 10:\n",
    "    print(j)\n",
    "    j += 1"
   ]
  },
  {
   "cell_type": "markdown",
   "metadata": {},
   "source": [
    "### List comprehensions"
   ]
  },
  {
   "cell_type": "code",
   "execution_count": null,
   "metadata": {
    "collapsed": false
   },
   "outputs": [],
   "source": [
    "# List comprehensions\n",
    "list_b = [1,3,4,2,5,6,4,5,7,5,6,4,5,3,1,2]\n",
    "\n",
    "# Normal for loop\n",
    "tmp1 = []\n",
    "for x in list_b:\n",
    "    if x > 3:\n",
    "        tmp1.append(x)\n",
    "print('Normal for loop:', tmp1)\n",
    "\n",
    "# List comprehension\n",
    "tmp2 = [x for x in list_b if x > 3]\n",
    "print('List comprehension:', tmp2)"
   ]
  },
  {
   "cell_type": "code",
   "execution_count": null,
   "metadata": {
    "collapsed": false
   },
   "outputs": [],
   "source": [
    "# Using LL from the previous example, do the following:\n",
    "# Given a list of lists, do the following:\n",
    "LL = [[1,2],[2,3],[3,4,5],[4,5,6,7],[5,6],[6,7,8,8,9]]\n",
    "\n",
    "# a. Create a new list first_LL of the first elements of each sublist\n",
    "first_LL = []\n",
    "for L in LL:\n",
    "    first_LL.append(L[0])\n",
    "    \n",
    "print(first_LL)\n",
    "\n",
    "# b. Create a new list last_LL of the last elements of each sublist\n",
    "last_LL = []\n",
    "for L in LL:\n",
    "    last_LL.append(L[-1])  # or L[len(L)-1]\n",
    "    \n",
    "print(last_LL)\n",
    "\n",
    "# c. Print all values in all sublists in the range [4,8]\n",
    "for L in LL:\n",
    "    for x in L:\n",
    "        if x >= 4 and x <= 8:\n",
    "            print(x)\n",
    "\n",
    "# d. Print all sublists of length 3 or greater\n",
    "for L in LL:\n",
    "    if len(L) >= 3:\n",
    "        print(L)"
   ]
  },
  {
   "cell_type": "code",
   "execution_count": null,
   "metadata": {
    "collapsed": false
   },
   "outputs": [],
   "source": [
    "# Checking membership\n",
    "\n",
    "# Lists\n",
    "list_d = [1,2,3,4,5]\n",
    "\n",
    "if 1 in list_d:\n",
    "    print('1 is in list d')\n",
    "\n",
    "if 6 not in list_d:\n",
    "    print('6 is not in list d')"
   ]
  },
  {
   "cell_type": "markdown",
   "metadata": {},
   "source": [
    "## Dictionaries\n",
    "\n",
    "In Python, dictionaries are essentially hash tables. They store (key,value) pairs and can contain data of all types."
   ]
  },
  {
   "cell_type": "code",
   "execution_count": null,
   "metadata": {
    "collapsed": false
   },
   "outputs": [],
   "source": [
    "# Dictionary example\n",
    "my_dict = {}  # declare empty dictionary\n",
    "my_dict['key1'] = 'value1'  # insert ('key1','value1') pair in dictionary\n",
    "print('my dict:', my_dict)  # prints entire dictionary\n",
    "print('first entry:', my_dict['key1'])  # index into dictionaries with keys\n",
    "\n",
    "# Second dictionary example\n",
    "dict1 = {}\n",
    "for x in range(1,21):\n",
    "    # each dictionary entry is a list of all whole numbers less than that value\n",
    "    dict1[x] = list(range(0,x))\n",
    "print('list dict:', dict1)\n",
    "print('last entry:', dict1[20])\n"
   ]
  },
  {
   "cell_type": "code",
   "execution_count": null,
   "metadata": {
    "collapsed": false
   },
   "outputs": [],
   "source": [
    "# Dictionaries\n",
    "# dict.keys() and dict.values() are lists of the keys and values in the dictionary\n",
    "dict_a = {'a': 3, 'b': 2, 'c': 1}\n",
    "\n",
    "if 'a' in dict_a.keys():\n",
    "    print('a is a key in dict a')\n",
    "if 'd' not in dict_a.keys():\n",
    "    print('d is not a key in dict a')\n",
    "    \n",
    "if 3 in dict_a.values():\n",
    "    print('3 is a value in dict a')\n",
    "if 4 not in dict_a.values():\n",
    "    print('4 is not a value in dict a')"
   ]
  },
  {
   "cell_type": "markdown",
   "metadata": {},
   "source": [
    "## Functions\n",
    "\n",
    "Functions are useful ways of encapsulating blocks of code to perform tasks. Each function is declared with the `def` keyword and takes a list of arguments. Additionally, most functions return something via the `return` keyword, which exits the function."
   ]
  },
  {
   "cell_type": "code",
   "execution_count": null,
   "metadata": {
    "collapsed": false
   },
   "outputs": [],
   "source": [
    "# Functions are declared with the 'def' keyword followed by the \n",
    "# function name and a list of arguments to the function.\n",
    "def my_function(arg1,arg2):\n",
    "    tmp = arg1 + arg2\n",
    "    return tmp\n",
    "\n",
    "return_value = my_function(1,3)\n",
    "print('sum:', return_value)\n",
    "\n",
    "def sum_list_naive(L):\n",
    "    sum = 0\n",
    "    for x in L:\n",
    "        sum += x\n",
    "    return sum\n",
    "\n",
    "print('sum list:', sum_list_naive([1,4,5,3]))"
   ]
  },
  {
   "cell_type": "markdown",
   "metadata": {},
   "source": [
    "### Exercises 1\n",
    "\n",
    "Write a function that goes through the following list and finds the smallest element. Do not use any built-in functions such as min(L)."
   ]
  },
  {
   "cell_type": "code",
   "execution_count": 3,
   "metadata": {
    "collapsed": false
   },
   "outputs": [
    {
     "name": "stdout",
     "output_type": "stream",
     "text": [
      "1\n"
     ]
    }
   ],
   "source": [
    "# Find the smallest element of this list\n",
    "L = [3,1,2,4,5,3,1,4,2,5,6,3,6,7,5,4,7,1,2,4,3,5,6,7,5]\n",
    "\n",
    "# Pseudocode:\n",
    "# Initialize current smallest element to the first element in list\n",
    "# Loop through list, updating current smallest element if necessary\n",
    "\n",
    "def find_smallest(input_list):\n",
    "    # your code\n",
    "    min_elem = input_list[0]\n",
    "    for elem in input_list:\n",
    "        if elem < min_elem:\n",
    "            min_elem = elem\n",
    "    return min_elem\n",
    "\n",
    "L_smallest = find_smallest(L)\n",
    "print(L_smallest)"
   ]
  },
  {
   "cell_type": "markdown",
   "metadata": {},
   "source": [
    "# Representing Graphs\n",
    "\n",
    "The most common data structures for representing graphs are adjacency matrices and adjacency lists. In general, adjacency matrices are better for dense graphs (because they take up $O(n^2)$ room), and they support very quick edge lookups. However, it's slow to iterate over all edges. Adjacency lists are better for sparse graphs and allows quick iteration over all edges in a graph, but finding the existence of a specific edge takes longer. For these examples, we will focus on using adjacency lists.\n",
    "\n",
    "The most basic way of representing a graph is through a list of lists. In this way, we can say that the $n^{th}$ list represents all of the $n^{th}$ vertex's connections. We will go through an example on the board."
   ]
  },
  {
   "cell_type": "code",
   "execution_count": null,
   "metadata": {
    "collapsed": false
   },
   "outputs": [],
   "source": [
    "# List of lists representation of a graph\n",
    "# Graph G: Vertices = {0,1,2,3}, Edges = {(0,1),(1,2),(2,3),(3,0)}\n",
    "\n",
    "G_LL = [[1,3],[0,2],[1,3],[0,2]]\n",
    "\n",
    "# Vertex 0's neighbors\n",
    "print(G_LL[0])\n",
    "\n",
    "# Vertex 1's neighbors\n",
    "print(G_LL[1])"
   ]
  },
  {
   "cell_type": "markdown",
   "metadata": {},
   "source": [
    "Another way of representing a graph is through a dictionary. See the below section for a quick introduction to a dictionary. The keys in this case will be the vertex names, and the corresponding values will be a list of all adjacent vertices. Note that using a dictionary is more convenient for graphs that have strings as labels for each vertex, but using a dictionary is more expensive in terms of memory and time. For the example above, we have the following."
   ]
  },
  {
   "cell_type": "code",
   "execution_count": null,
   "metadata": {
    "collapsed": false
   },
   "outputs": [],
   "source": [
    "# Dictionary representation of a graph\n",
    "# Graph G: Vertices = {0,1,2,3}, Edges = {(0,1),(1,2),(2,3),(3,0)}\n",
    "\n",
    "G_dict = {0:[1,3], 1:[0,2], 2:[1,3], 3:[0,2]}\n",
    "\n",
    "# Vertex 0's neighbors\n",
    "print(G_dict[0])\n",
    "\n",
    "# Vertex 1's neighbors\n",
    "print(G_dict[1])"
   ]
  },
  {
   "cell_type": "markdown",
   "metadata": {},
   "source": [
    "# Plotting Data"
   ]
  },
  {
   "cell_type": "code",
   "execution_count": null,
   "metadata": {
    "collapsed": false
   },
   "outputs": [],
   "source": [
    "%matplotlib nbagg\n",
    "\n",
    "import matplotlib.pylab as plt  # use matplotlib's pyplot package\n",
    "\n",
    "plt.plot([1,3,4],[3,6,7])  # plt.plot draws a line\n",
    "plt.show()"
   ]
  },
  {
   "cell_type": "markdown",
   "metadata": {},
   "source": [
    "# Matrix Operations in Python\n",
    "\n",
    "When dealing with matrices in Python, the general best practice is to use the NumPy package. This codelab will go over how to carry out operations on matrices useful for the next problem set (and in general)."
   ]
  },
  {
   "cell_type": "code",
   "execution_count": null,
   "metadata": {
    "collapsed": false
   },
   "outputs": [],
   "source": [
    "import numpy as np\n",
    "# numpy has packages called 'matrix' and 'linalg' that will be useful\n",
    "\n",
    "mat1 = np.matrix( [[1.,2.,3.],[4.,5.,6.],[7.,8.,9.]] )\n",
    "mat2 = np.matrix( [[0,1,0],[1,0,0],[0,1,1]] )\n",
    "\n",
    "print('matrices: \\n', mat1, '\\n', mat2)\n",
    "\n",
    "# indexing into matrices\n",
    "print('first row:\\n', mat1[0,:])\n",
    "print('first column:\\n', mat1[:,0])\n",
    "print('first two rows:\\n', mat1[0:2,:])\n",
    "print('first two cols:\\n', mat1[:,0:2])\n",
    "\n",
    "# matrix attributes\n",
    "print('shape: ', mat1.shape)\n",
    "print('size: ', mat1.size)"
   ]
  },
  {
   "cell_type": "markdown",
   "metadata": {},
   "source": [
    "Here are some matrix operations that you should know: (useful link here: http://sebastianraschka.com/Articles/2014_matlab_vs_numpy.html)"
   ]
  },
  {
   "cell_type": "code",
   "execution_count": null,
   "metadata": {
    "collapsed": false
   },
   "outputs": [],
   "source": [
    "# matrix operations\n",
    "print ('plus: \\n', mat1 + mat2)\n",
    "print ('minus: \\n', mat1 - mat2)\n",
    "\n",
    "# element-wise multiplication\n",
    "print ('element-wise multiplication: \\n', np.multiply(mat1,mat2))\n",
    "\n",
    "# matrix multiplication\n",
    "print('matrix multiplication: \\n', np.dot(mat1,mat2))\n",
    "# print mat1*mat2\n",
    "\n",
    "# element-wise division\n",
    "print('element-wise division: \\n', np.divide(mat2,mat1))\n",
    "# print mat2/mat1\n",
    "\n",
    "# raising matrices to powers (element-wise)\n",
    "print('element-wise power: \\n', np.power(mat1,2))\n",
    "\n",
    "# raising matrices to powers\n",
    "print('matrix power: \\n', np.linalg.matrix_power(mat1,2))"
   ]
  },
  {
   "cell_type": "markdown",
   "metadata": {},
   "source": [
    "# Breadth First Search\n",
    "\n",
    "Breadth first search (BFS) is a common and useful graph traversal algorithm. A graph traversal algorithm describes a process for visiting the nodes in a tree or graph, where traversing from one node to another is only allowed if there is an edge connecting those vertices. A motivational property of BFS is that it can find connectivity and shortest distances between two nodes in graphs. For this class, we will apply BFS to compute centrality measures and other graph properties. In this lab we will study how BFS runs, how to implement it, and how it can be used.\n",
    "\n",
    "### Queue\n",
    "Before we can begin to study BFS, we need to understand the queue data structure. Similar to the non-computer science understanding of the word, a queue is essentially a line. Data, in our case nodes or vertices, enter the queue and are stored there. The operation of adding data to a queue is called enqueue() or push(). The order in which they enter the queue is preserved. When we need to retrieve data, we take the earliest element from the queue and it is removed from the queue. This operation is called dequeue() or pop(). This is referred to as <i>first-in-first-out</i> (FIFO).\n",
    "\n",
    "In Python, we can implement a queue naively as a list. However, lists were not built for this purpose, and do not have efficient push() and pop() operations. Alternatives include implementations included in libraries (which we will be using) or defining your own class and operations. For this lab we will use the queue data structure from the 'collections' library (https://docs.python.org/2/library/collections.html#collections.deque)."
   ]
  },
  {
   "cell_type": "code",
   "execution_count": 6,
   "metadata": {
    "collapsed": true
   },
   "outputs": [],
   "source": [
    "from collections import deque"
   ]
  },
  {
   "cell_type": "code",
   "execution_count": 7,
   "metadata": {
    "collapsed": false
   },
   "outputs": [
    {
     "name": "stdout",
     "output_type": "stream",
     "text": [
      "Plum\n"
     ]
    }
   ],
   "source": [
    "# initializes the queue with [S, W, M]\n",
    "queue = deque([\"Scarlet\", \"White\", \"Mustard\"])\n",
    "queue.append(\"Plum\")\n",
    "# Now the queue is [S, W, M, P]\n",
    "queue.popleft()\n",
    "# Now the queue is [W, M, P]\n",
    "queue.append(\"Greene\")\n",
    "# etc\n",
    "queue.popleft()\n",
    "queue.popleft()\n",
    "murderer = queue.popleft()\n",
    "print(murderer)\n",
    "\n",
    "# who is Boddy's murderer?\n",
    "# ANSWER: Plum"
   ]
  },
  {
   "cell_type": "markdown",
   "metadata": {},
   "source": [
    "### Algorithm"
   ]
  },
  {
   "cell_type": "markdown",
   "metadata": {},
   "source": [
    "Recall that a graph traversal is a route of nodes to follow or traverse, where we can only move between two nodes if there is an edge between them. Breadth first search specifies a process for doing so. In the simplest implementation, BFS visits a given node, adds its neighbors to the queue, then visits the element returned by the queue. To begin the BFS, we start at a given node, then visit all of that node's nieghbors, then visit all of one neighbor's neighbors, then another neighbor's neighbors, etc. Whenever we visit a node for the first time, we mark it as visited; otherwise we do nothing when re-visiting a node. The algorithm terminates once we have visited everything reachable from the given node, and we have a list of nodes reachable from that node.\n",
    "\n",
    "<br />\n",
    "<div align=\"center\">\n",
    "<img width=400 src=\"./Images/BFS.png\"></img>\n",
    "**Algorithm 1.: BFS**\n",
    "</div>\n"
   ]
  },
  {
   "cell_type": "code",
   "execution_count": 8,
   "metadata": {
    "collapsed": true
   },
   "outputs": [],
   "source": [
    "# graph G represented as an adjacency list dictionary, a node v to start at\n",
    "def simpleBFS(G, v):\n",
    "    reachable = [-1] * len(G.keys())   # -1 indicates unvisited\n",
    "    reachable[v-1] = 1                 # note: we assume vertices have integer names\n",
    "    \n",
    "    queue = deque()\n",
    "    queue.append(v)\n",
    "    while len(queue) != 0:           # while we still have things to visit\n",
    "        current = queue.popleft()\n",
    "        for node in G[current]:\n",
    "            if reachable[node-1] == -1:\n",
    "                reachable[node-1] = 1\n",
    "                queue.append(node)\n",
    "    \n",
    "    return reachable"
   ]
  },
  {
   "cell_type": "code",
   "execution_count": 9,
   "metadata": {
    "collapsed": true
   },
   "outputs": [],
   "source": [
    "# G as an adjacency list\n",
    "G = {1:[2,3], 2:[1,5], 3:[4,1,5], 4:[3], 5:[2,3,6], 6:[5]}"
   ]
  },
  {
   "cell_type": "code",
   "execution_count": 10,
   "metadata": {
    "collapsed": false
   },
   "outputs": [
    {
     "data": {
      "text/plain": [
       "[1, 1, 1, 1, 1, 1]"
      ]
     },
     "execution_count": 10,
     "metadata": {},
     "output_type": "execute_result"
    }
   ],
   "source": [
    "simpleBFS(G, 1)"
   ]
  },
  {
   "cell_type": "markdown",
   "metadata": {},
   "source": [
    "<div align=\"center\"> <img width=500 src=\"./Images/SimpleGraph.png\"></img> </div>\n",
    "\n",
    "\n",
    "all the graph above $G$. If we call simpleBFS($G$, $a$), the steps the BFS will take are (assume nodes are added to the queue in alphabetical order)\n",
    "1. start at $a$, push nodes $b$ and $c$ on the queue and mark them as visited\n",
    "2. pop off $b$ from the queue, visit it, and add $e$ to the queue\n",
    "4. pop off $c$ from the queue, visit it, and add $d$ to the queue\n",
    "4. pop off $e$ from the queue, upon seeing that $c$ and $b$ have been visited, no nodes are added to the queue\n",
    "5. pop off $d$ from the queue, no nodes are added to the queue\n",
    "6. queue is now empty, simpleBFS terminates and returns a list from which we can iterate through and see that only $f$ is not reachable from $a$\n",
    "\n",
    "## Exercises: \n",
    "**Question**: What is the order of traversal for simpleBFS($G$, $f$)? simpleBFS($G$,$b$)?\n",
    "\n",
    "**Result**:\n",
    "\n",
    "### Modifications\n",
    "Armed with an understanding of how BFS operates, we can make improvements on the algorithm so that we can extract more information about the graph in the running of BFS. Consider the following:"
   ]
  },
  {
   "cell_type": "code",
   "execution_count": 11,
   "metadata": {
    "collapsed": true
   },
   "outputs": [],
   "source": [
    "# graph G represented as an adjacency list dictionary, a node v to start at\n",
    "def distBFS(G, v):\n",
    "    dist = [-1] * len(G.keys())\n",
    "    dist[v-1] = 0                 # the distance from v to itself is 0\n",
    "    \n",
    "    queue = deque()\n",
    "    queue.append(v)\n",
    "    while len(queue) != 0:           # while we still have things to visit\n",
    "        current = queue.popleft()\n",
    "        for node in G[current]:\n",
    "            if dist[node-1] == -1:\n",
    "                dist[node-1] = dist[current-1] + 1\n",
    "                queue.append(node)\n",
    "    \n",
    "    return dist"
   ]
  },
  {
   "cell_type": "code",
   "execution_count": 12,
   "metadata": {
    "collapsed": false
   },
   "outputs": [
    {
     "name": "stdout",
     "output_type": "stream",
     "text": [
      "[0, 1, 1, 2, 2, 3]\n"
     ]
    }
   ],
   "source": [
    "print(distBFS(G, 1))"
   ]
  },
  {
   "cell_type": "markdown",
   "metadata": {},
   "source": [
    "With this implementation of BFS, we not only are able to find out which vertices of the graph are reachable from $v$, but also how far away (in terms of nodes in between) each vertex is from $v$. Moreover, the path length returned by distBFS() is provably the shortest path from $v$ to any other vertex in $G$, provided there are no edge weights associated with the graph. However, even if we know the shortest path, it would be nice to know which nodes precisely we would need to traverse to get from $v$ to that vertex. We can still do that with BFS. Consider the following:"
   ]
  },
  {
   "cell_type": "code",
   "execution_count": 13,
   "metadata": {
    "collapsed": true
   },
   "outputs": [],
   "source": [
    "# graph G represented as an adjacency list dictionary, a node v to start at\n",
    "def BFS(G, v):\n",
    "    dist = [-1] * len(G.keys())       \n",
    "    prev = [None] * len(G.keys())\n",
    "    dist[v-1] = 0                     \n",
    "    \n",
    "    queue = deque()\n",
    "    queue.append(v)\n",
    "    while len(queue) != 0:\n",
    "        current = queue.popleft()\n",
    "        for node in G[current]:\n",
    "            if dist[node-1] == -1:\n",
    "                dist[node-1] = dist[current-1] + 1\n",
    "                prev[node-1] = current\n",
    "                queue.append(node)\n",
    "    \n",
    "    return dist, prev"
   ]
  },
  {
   "cell_type": "code",
   "execution_count": 14,
   "metadata": {
    "collapsed": false
   },
   "outputs": [
    {
     "name": "stdout",
     "output_type": "stream",
     "text": [
      "([0, 1, 1, 2, 2, 3], [None, 1, 1, 3, 2, 5])\n"
     ]
    }
   ],
   "source": [
    "print(BFS(G,1))"
   ]
  },
  {
   "cell_type": "markdown",
   "metadata": {},
   "source": [
    "With this implementation of BFS, we introduce the prev array, which for a given node $w$ keeps track of the node that we visited that led us to that node. This node is a <i>predecessor</i> of $w$. Returned this information, if we want to find the path from $v$ to $w$, first inspect the dist array to make sure $w$ is reachable from $v$. If it is reachable, we simply inspect the prev array for prev[w]. If that is not $v$, we look for the predecessor of prev[w], and on until we find $v$.\n",
    "\n",
    "### Exercice\n",
    "\n",
    "- Walk through BFS(G,B) on the graph above, keeping track of the order visited and the state of the arrays. (We will use the following format: current node, dist, prev):\n",
    "\n",
    "    * B\n",
    "    * E\n",
    "    * C\n",
    "    * D\n",
    "    \n",
    "**Result:**"
   ]
  },
  {
   "cell_type": "markdown",
   "metadata": {},
   "source": [
    "## Compute Clustering\n",
    "\n",
    "Recall that the clustering coefficient $C(v)$ of a vertex $v$ is the fraction over all pairs of neighbors of $v$ of pairs between which an edge exists. In real world social networks we usually see high clustering, and therefore we want our random graph models to also have this property. Ultimately we want to find the clustering coefficient of the graph, but we begin by calculating the clustering coefficient for a single vertex."
   ]
  },
  {
   "cell_type": "code",
   "execution_count": 15,
   "metadata": {
    "collapsed": true
   },
   "outputs": [],
   "source": [
    "def vertexCC(G,v):\n",
    "    v_neighbors = G[v]\n",
    "    edges = 0.0\n",
    "    for i in range(len(v_neighbors)):\n",
    "        for j in range(i+1, len(v_neighbors)):\n",
    "            if v_neighbors[j] in G[v_neighbors[i]]:\n",
    "                edges += 1\n",
    "    if edges == 0.0:\n",
    "        return 0.0\n",
    "    else:\n",
    "        return edges / ((len(v_neighbors)^2 - len(v_neighbors))/2)"
   ]
  },
  {
   "cell_type": "code",
   "execution_count": 16,
   "metadata": {
    "collapsed": false
   },
   "outputs": [
    {
     "data": {
      "text/plain": [
       "0.0"
      ]
     },
     "execution_count": 16,
     "metadata": {},
     "output_type": "execute_result"
    }
   ],
   "source": [
    "'''\n",
    "Use vertexCC() to calculate the clustering coefficient of the entire graph, \n",
    "which is the average clustering coefficient of its nodes.\n",
    "'''\n",
    "import numpy as np\n",
    "\n",
    "def graphCC(G):\n",
    "    CC = []\n",
    "    for n in G.keys():\n",
    "        CC.append(vertexCC(G,n))\n",
    "    return np.array(CC).mean()       \n",
    "    \n",
    "graphCC(G)"
   ]
  },
  {
   "cell_type": "code",
   "execution_count": 17,
   "metadata": {
    "collapsed": false
   },
   "outputs": [
    {
     "data": {
      "text/plain": [
       "1.0"
      ]
     },
     "execution_count": 17,
     "metadata": {},
     "output_type": "execute_result"
    }
   ],
   "source": [
    "G = {1:[2,3], 2:[1,3], 3:[1,2]}\n",
    "graphCC(G)"
   ]
  },
  {
   "cell_type": "markdown",
   "metadata": {},
   "source": [
    "# Networkx\n",
    "\n",
    "## Overview\n",
    "NetworkX is a Python language software package for the creation, manipulation, and study of the structure, dynamics, and function of complex networks.\n",
    "\n",
    "With NetworkX you can load and store networks in standard and nonstandard data formats, generate many types of random and classic networks, analyze network structure, build network models, design new network algorithms, draw networks, and much more.\n",
    "\n",
    "## Who uses NetworkX?\n",
    "The potential audience for NetworkX includes mathematicians, physicists, biologists, computer scientists, and social scientists.\n",
    "\n",
    "## Goals\n",
    "NetworkX is intended to provide tools \n",
    "\n",
    "* tools for the study of the structure and dynamics of social, biological, and infrastructure networks,\n",
    "* a standard programming interface and graph implementation that is suitable for many applications,\n",
    "* a rapid development environment for collaborative, multidisciplinary projects,\n",
    "* an interface to existing numerical algorithms and code written in C, C++, and FORTRAN,\n",
    "* the ability to painlessly slurp in large nonstandard data sets\n",
    "\n",
    "for more information fo to the [Networkx Documentation](http://networkx.github.io/documentation/latest/index.html)"
   ]
  },
  {
   "cell_type": "code",
   "execution_count": 60,
   "metadata": {
    "collapsed": false
   },
   "outputs": [],
   "source": [
    "import networkx as nx\n",
    "%matplotlib nbagg"
   ]
  },
  {
   "cell_type": "code",
   "execution_count": 55,
   "metadata": {
    "collapsed": false
   },
   "outputs": [
    {
     "data": {
      "application/javascript": [
       "/* Put everything inside the global mpl namespace */\n",
       "window.mpl = {};\n",
       "\n",
       "mpl.get_websocket_type = function() {\n",
       "    if (typeof(WebSocket) !== 'undefined') {\n",
       "        return WebSocket;\n",
       "    } else if (typeof(MozWebSocket) !== 'undefined') {\n",
       "        return MozWebSocket;\n",
       "    } else {\n",
       "        alert('Your browser does not have WebSocket support.' +\n",
       "              'Please try Chrome, Safari or Firefox ≥ 6. ' +\n",
       "              'Firefox 4 and 5 are also supported but you ' +\n",
       "              'have to enable WebSockets in about:config.');\n",
       "    };\n",
       "}\n",
       "\n",
       "mpl.figure = function(figure_id, websocket, ondownload, parent_element) {\n",
       "    this.id = figure_id;\n",
       "\n",
       "    this.ws = websocket;\n",
       "\n",
       "    this.supports_binary = (this.ws.binaryType != undefined);\n",
       "\n",
       "    if (!this.supports_binary) {\n",
       "        var warnings = document.getElementById(\"mpl-warnings\");\n",
       "        if (warnings) {\n",
       "            warnings.style.display = 'block';\n",
       "            warnings.textContent = (\n",
       "                \"This browser does not support binary websocket messages. \" +\n",
       "                    \"Performance may be slow.\");\n",
       "        }\n",
       "    }\n",
       "\n",
       "    this.imageObj = new Image();\n",
       "\n",
       "    this.context = undefined;\n",
       "    this.message = undefined;\n",
       "    this.canvas = undefined;\n",
       "    this.rubberband_canvas = undefined;\n",
       "    this.rubberband_context = undefined;\n",
       "    this.format_dropdown = undefined;\n",
       "\n",
       "    this.image_mode = 'full';\n",
       "\n",
       "    this.root = $('<div/>');\n",
       "    this._root_extra_style(this.root)\n",
       "    this.root.attr('style', 'display: inline-block');\n",
       "\n",
       "    $(parent_element).append(this.root);\n",
       "\n",
       "    this._init_header(this);\n",
       "    this._init_canvas(this);\n",
       "    this._init_toolbar(this);\n",
       "\n",
       "    var fig = this;\n",
       "\n",
       "    this.waiting = false;\n",
       "\n",
       "    this.ws.onopen =  function () {\n",
       "            fig.send_message(\"supports_binary\", {value: fig.supports_binary});\n",
       "            fig.send_message(\"send_image_mode\", {});\n",
       "            fig.send_message(\"refresh\", {});\n",
       "        }\n",
       "\n",
       "    this.imageObj.onload = function() {\n",
       "            if (fig.image_mode == 'full') {\n",
       "                // Full images could contain transparency (where diff images\n",
       "                // almost always do), so we need to clear the canvas so that\n",
       "                // there is no ghosting.\n",
       "                fig.context.clearRect(0, 0, fig.canvas.width, fig.canvas.height);\n",
       "            }\n",
       "            fig.context.drawImage(fig.imageObj, 0, 0);\n",
       "        };\n",
       "\n",
       "    this.imageObj.onunload = function() {\n",
       "        this.ws.close();\n",
       "    }\n",
       "\n",
       "    this.ws.onmessage = this._make_on_message_function(this);\n",
       "\n",
       "    this.ondownload = ondownload;\n",
       "}\n",
       "\n",
       "mpl.figure.prototype._init_header = function() {\n",
       "    var titlebar = $(\n",
       "        '<div class=\"ui-dialog-titlebar ui-widget-header ui-corner-all ' +\n",
       "        'ui-helper-clearfix\"/>');\n",
       "    var titletext = $(\n",
       "        '<div class=\"ui-dialog-title\" style=\"width: 100%; ' +\n",
       "        'text-align: center; padding: 3px;\"/>');\n",
       "    titlebar.append(titletext)\n",
       "    this.root.append(titlebar);\n",
       "    this.header = titletext[0];\n",
       "}\n",
       "\n",
       "\n",
       "\n",
       "mpl.figure.prototype._canvas_extra_style = function(canvas_div) {\n",
       "\n",
       "}\n",
       "\n",
       "\n",
       "mpl.figure.prototype._root_extra_style = function(canvas_div) {\n",
       "\n",
       "}\n",
       "\n",
       "mpl.figure.prototype._init_canvas = function() {\n",
       "    var fig = this;\n",
       "\n",
       "    var canvas_div = $('<div/>');\n",
       "\n",
       "    canvas_div.attr('style', 'position: relative; clear: both; outline: 0');\n",
       "\n",
       "    function canvas_keyboard_event(event) {\n",
       "        return fig.key_event(event, event['data']);\n",
       "    }\n",
       "\n",
       "    canvas_div.keydown('key_press', canvas_keyboard_event);\n",
       "    canvas_div.keyup('key_release', canvas_keyboard_event);\n",
       "    this.canvas_div = canvas_div\n",
       "    this._canvas_extra_style(canvas_div)\n",
       "    this.root.append(canvas_div);\n",
       "\n",
       "    var canvas = $('<canvas/>');\n",
       "    canvas.addClass('mpl-canvas');\n",
       "    canvas.attr('style', \"left: 0; top: 0; z-index: 0; outline: 0\")\n",
       "\n",
       "    this.canvas = canvas[0];\n",
       "    this.context = canvas[0].getContext(\"2d\");\n",
       "\n",
       "    var rubberband = $('<canvas/>');\n",
       "    rubberband.attr('style', \"position: absolute; left: 0; top: 0; z-index: 1;\")\n",
       "\n",
       "    var pass_mouse_events = true;\n",
       "\n",
       "    canvas_div.resizable({\n",
       "        start: function(event, ui) {\n",
       "            pass_mouse_events = false;\n",
       "        },\n",
       "        resize: function(event, ui) {\n",
       "            fig.request_resize(ui.size.width, ui.size.height);\n",
       "        },\n",
       "        stop: function(event, ui) {\n",
       "            pass_mouse_events = true;\n",
       "            fig.request_resize(ui.size.width, ui.size.height);\n",
       "        },\n",
       "    });\n",
       "\n",
       "    function mouse_event_fn(event) {\n",
       "        if (pass_mouse_events)\n",
       "            return fig.mouse_event(event, event['data']);\n",
       "    }\n",
       "\n",
       "    rubberband.mousedown('button_press', mouse_event_fn);\n",
       "    rubberband.mouseup('button_release', mouse_event_fn);\n",
       "    // Throttle sequential mouse events to 1 every 20ms.\n",
       "    rubberband.mousemove('motion_notify', mouse_event_fn);\n",
       "\n",
       "    rubberband.mouseenter('figure_enter', mouse_event_fn);\n",
       "    rubberband.mouseleave('figure_leave', mouse_event_fn);\n",
       "\n",
       "    canvas_div.on(\"wheel\", function (event) {\n",
       "        event = event.originalEvent;\n",
       "        event['data'] = 'scroll'\n",
       "        if (event.deltaY < 0) {\n",
       "            event.step = 1;\n",
       "        } else {\n",
       "            event.step = -1;\n",
       "        }\n",
       "        mouse_event_fn(event);\n",
       "    });\n",
       "\n",
       "    canvas_div.append(canvas);\n",
       "    canvas_div.append(rubberband);\n",
       "\n",
       "    this.rubberband = rubberband;\n",
       "    this.rubberband_canvas = rubberband[0];\n",
       "    this.rubberband_context = rubberband[0].getContext(\"2d\");\n",
       "    this.rubberband_context.strokeStyle = \"#000000\";\n",
       "\n",
       "    this._resize_canvas = function(width, height) {\n",
       "        // Keep the size of the canvas, canvas container, and rubber band\n",
       "        // canvas in synch.\n",
       "        canvas_div.css('width', width)\n",
       "        canvas_div.css('height', height)\n",
       "\n",
       "        canvas.attr('width', width);\n",
       "        canvas.attr('height', height);\n",
       "\n",
       "        rubberband.attr('width', width);\n",
       "        rubberband.attr('height', height);\n",
       "    }\n",
       "\n",
       "    // Set the figure to an initial 600x600px, this will subsequently be updated\n",
       "    // upon first draw.\n",
       "    this._resize_canvas(600, 600);\n",
       "\n",
       "    // Disable right mouse context menu.\n",
       "    $(this.rubberband_canvas).bind(\"contextmenu\",function(e){\n",
       "        return false;\n",
       "    });\n",
       "\n",
       "    function set_focus () {\n",
       "        canvas.focus();\n",
       "        canvas_div.focus();\n",
       "    }\n",
       "\n",
       "    window.setTimeout(set_focus, 100);\n",
       "}\n",
       "\n",
       "mpl.figure.prototype._init_toolbar = function() {\n",
       "    var fig = this;\n",
       "\n",
       "    var nav_element = $('<div/>')\n",
       "    nav_element.attr('style', 'width: 100%');\n",
       "    this.root.append(nav_element);\n",
       "\n",
       "    // Define a callback function for later on.\n",
       "    function toolbar_event(event) {\n",
       "        return fig.toolbar_button_onclick(event['data']);\n",
       "    }\n",
       "    function toolbar_mouse_event(event) {\n",
       "        return fig.toolbar_button_onmouseover(event['data']);\n",
       "    }\n",
       "\n",
       "    for(var toolbar_ind in mpl.toolbar_items) {\n",
       "        var name = mpl.toolbar_items[toolbar_ind][0];\n",
       "        var tooltip = mpl.toolbar_items[toolbar_ind][1];\n",
       "        var image = mpl.toolbar_items[toolbar_ind][2];\n",
       "        var method_name = mpl.toolbar_items[toolbar_ind][3];\n",
       "\n",
       "        if (!name) {\n",
       "            // put a spacer in here.\n",
       "            continue;\n",
       "        }\n",
       "        var button = $('<button/>');\n",
       "        button.addClass('ui-button ui-widget ui-state-default ui-corner-all ' +\n",
       "                        'ui-button-icon-only');\n",
       "        button.attr('role', 'button');\n",
       "        button.attr('aria-disabled', 'false');\n",
       "        button.click(method_name, toolbar_event);\n",
       "        button.mouseover(tooltip, toolbar_mouse_event);\n",
       "\n",
       "        var icon_img = $('<span/>');\n",
       "        icon_img.addClass('ui-button-icon-primary ui-icon');\n",
       "        icon_img.addClass(image);\n",
       "        icon_img.addClass('ui-corner-all');\n",
       "\n",
       "        var tooltip_span = $('<span/>');\n",
       "        tooltip_span.addClass('ui-button-text');\n",
       "        tooltip_span.html(tooltip);\n",
       "\n",
       "        button.append(icon_img);\n",
       "        button.append(tooltip_span);\n",
       "\n",
       "        nav_element.append(button);\n",
       "    }\n",
       "\n",
       "    var fmt_picker_span = $('<span/>');\n",
       "\n",
       "    var fmt_picker = $('<select/>');\n",
       "    fmt_picker.addClass('mpl-toolbar-option ui-widget ui-widget-content');\n",
       "    fmt_picker_span.append(fmt_picker);\n",
       "    nav_element.append(fmt_picker_span);\n",
       "    this.format_dropdown = fmt_picker[0];\n",
       "\n",
       "    for (var ind in mpl.extensions) {\n",
       "        var fmt = mpl.extensions[ind];\n",
       "        var option = $(\n",
       "            '<option/>', {selected: fmt === mpl.default_extension}).html(fmt);\n",
       "        fmt_picker.append(option)\n",
       "    }\n",
       "\n",
       "    // Add hover states to the ui-buttons\n",
       "    $( \".ui-button\" ).hover(\n",
       "        function() { $(this).addClass(\"ui-state-hover\");},\n",
       "        function() { $(this).removeClass(\"ui-state-hover\");}\n",
       "    );\n",
       "\n",
       "    var status_bar = $('<span class=\"mpl-message\"/>');\n",
       "    nav_element.append(status_bar);\n",
       "    this.message = status_bar[0];\n",
       "}\n",
       "\n",
       "mpl.figure.prototype.request_resize = function(x_pixels, y_pixels) {\n",
       "    // Request matplotlib to resize the figure. Matplotlib will then trigger a resize in the client,\n",
       "    // which will in turn request a refresh of the image.\n",
       "    this.send_message('resize', {'width': x_pixels, 'height': y_pixels});\n",
       "}\n",
       "\n",
       "mpl.figure.prototype.send_message = function(type, properties) {\n",
       "    properties['type'] = type;\n",
       "    properties['figure_id'] = this.id;\n",
       "    this.ws.send(JSON.stringify(properties));\n",
       "}\n",
       "\n",
       "mpl.figure.prototype.send_draw_message = function() {\n",
       "    if (!this.waiting) {\n",
       "        this.waiting = true;\n",
       "        this.ws.send(JSON.stringify({type: \"draw\", figure_id: this.id}));\n",
       "    }\n",
       "}\n",
       "\n",
       "\n",
       "mpl.figure.prototype.handle_save = function(fig, msg) {\n",
       "    var format_dropdown = fig.format_dropdown;\n",
       "    var format = format_dropdown.options[format_dropdown.selectedIndex].value;\n",
       "    fig.ondownload(fig, format);\n",
       "}\n",
       "\n",
       "\n",
       "mpl.figure.prototype.handle_resize = function(fig, msg) {\n",
       "    var size = msg['size'];\n",
       "    if (size[0] != fig.canvas.width || size[1] != fig.canvas.height) {\n",
       "        fig._resize_canvas(size[0], size[1]);\n",
       "        fig.send_message(\"refresh\", {});\n",
       "    };\n",
       "}\n",
       "\n",
       "mpl.figure.prototype.handle_rubberband = function(fig, msg) {\n",
       "    var x0 = msg['x0'];\n",
       "    var y0 = fig.canvas.height - msg['y0'];\n",
       "    var x1 = msg['x1'];\n",
       "    var y1 = fig.canvas.height - msg['y1'];\n",
       "    x0 = Math.floor(x0) + 0.5;\n",
       "    y0 = Math.floor(y0) + 0.5;\n",
       "    x1 = Math.floor(x1) + 0.5;\n",
       "    y1 = Math.floor(y1) + 0.5;\n",
       "    var min_x = Math.min(x0, x1);\n",
       "    var min_y = Math.min(y0, y1);\n",
       "    var width = Math.abs(x1 - x0);\n",
       "    var height = Math.abs(y1 - y0);\n",
       "\n",
       "    fig.rubberband_context.clearRect(\n",
       "        0, 0, fig.canvas.width, fig.canvas.height);\n",
       "\n",
       "    fig.rubberband_context.strokeRect(min_x, min_y, width, height);\n",
       "}\n",
       "\n",
       "mpl.figure.prototype.handle_figure_label = function(fig, msg) {\n",
       "    // Updates the figure title.\n",
       "    fig.header.textContent = msg['label'];\n",
       "}\n",
       "\n",
       "mpl.figure.prototype.handle_cursor = function(fig, msg) {\n",
       "    var cursor = msg['cursor'];\n",
       "    switch(cursor)\n",
       "    {\n",
       "    case 0:\n",
       "        cursor = 'pointer';\n",
       "        break;\n",
       "    case 1:\n",
       "        cursor = 'default';\n",
       "        break;\n",
       "    case 2:\n",
       "        cursor = 'crosshair';\n",
       "        break;\n",
       "    case 3:\n",
       "        cursor = 'move';\n",
       "        break;\n",
       "    }\n",
       "    fig.rubberband_canvas.style.cursor = cursor;\n",
       "}\n",
       "\n",
       "mpl.figure.prototype.handle_message = function(fig, msg) {\n",
       "    fig.message.textContent = msg['message'];\n",
       "}\n",
       "\n",
       "mpl.figure.prototype.handle_draw = function(fig, msg) {\n",
       "    // Request the server to send over a new figure.\n",
       "    fig.send_draw_message();\n",
       "}\n",
       "\n",
       "mpl.figure.prototype.handle_image_mode = function(fig, msg) {\n",
       "    fig.image_mode = msg['mode'];\n",
       "}\n",
       "\n",
       "mpl.figure.prototype.updated_canvas_event = function() {\n",
       "    // Called whenever the canvas gets updated.\n",
       "    this.send_message(\"ack\", {});\n",
       "}\n",
       "\n",
       "// A function to construct a web socket function for onmessage handling.\n",
       "// Called in the figure constructor.\n",
       "mpl.figure.prototype._make_on_message_function = function(fig) {\n",
       "    return function socket_on_message(evt) {\n",
       "        if (evt.data instanceof Blob) {\n",
       "            /* FIXME: We get \"Resource interpreted as Image but\n",
       "             * transferred with MIME type text/plain:\" errors on\n",
       "             * Chrome.  But how to set the MIME type?  It doesn't seem\n",
       "             * to be part of the websocket stream */\n",
       "            evt.data.type = \"image/png\";\n",
       "\n",
       "            /* Free the memory for the previous frames */\n",
       "            if (fig.imageObj.src) {\n",
       "                (window.URL || window.webkitURL).revokeObjectURL(\n",
       "                    fig.imageObj.src);\n",
       "            }\n",
       "\n",
       "            fig.imageObj.src = (window.URL || window.webkitURL).createObjectURL(\n",
       "                evt.data);\n",
       "            fig.updated_canvas_event();\n",
       "            fig.waiting = false;\n",
       "            return;\n",
       "        }\n",
       "        else if (typeof evt.data === 'string' && evt.data.slice(0, 21) == \"data:image/png;base64\") {\n",
       "            fig.imageObj.src = evt.data;\n",
       "            fig.updated_canvas_event();\n",
       "            fig.waiting = false;\n",
       "            return;\n",
       "        }\n",
       "\n",
       "        var msg = JSON.parse(evt.data);\n",
       "        var msg_type = msg['type'];\n",
       "\n",
       "        // Call the  \"handle_{type}\" callback, which takes\n",
       "        // the figure and JSON message as its only arguments.\n",
       "        try {\n",
       "            var callback = fig[\"handle_\" + msg_type];\n",
       "        } catch (e) {\n",
       "            console.log(\"No handler for the '\" + msg_type + \"' message type: \", msg);\n",
       "            return;\n",
       "        }\n",
       "\n",
       "        if (callback) {\n",
       "            try {\n",
       "                // console.log(\"Handling '\" + msg_type + \"' message: \", msg);\n",
       "                callback(fig, msg);\n",
       "            } catch (e) {\n",
       "                console.log(\"Exception inside the 'handler_\" + msg_type + \"' callback:\", e, e.stack, msg);\n",
       "            }\n",
       "        }\n",
       "    };\n",
       "}\n",
       "\n",
       "// from http://stackoverflow.com/questions/1114465/getting-mouse-location-in-canvas\n",
       "mpl.findpos = function(e) {\n",
       "    //this section is from http://www.quirksmode.org/js/events_properties.html\n",
       "    var targ;\n",
       "    if (!e)\n",
       "        e = window.event;\n",
       "    if (e.target)\n",
       "        targ = e.target;\n",
       "    else if (e.srcElement)\n",
       "        targ = e.srcElement;\n",
       "    if (targ.nodeType == 3) // defeat Safari bug\n",
       "        targ = targ.parentNode;\n",
       "\n",
       "    // jQuery normalizes the pageX and pageY\n",
       "    // pageX,Y are the mouse positions relative to the document\n",
       "    // offset() returns the position of the element relative to the document\n",
       "    var x = e.pageX - $(targ).offset().left;\n",
       "    var y = e.pageY - $(targ).offset().top;\n",
       "\n",
       "    return {\"x\": x, \"y\": y};\n",
       "};\n",
       "\n",
       "/*\n",
       " * return a copy of an object with only non-object keys\n",
       " * we need this to avoid circular references\n",
       " * http://stackoverflow.com/a/24161582/3208463\n",
       " */\n",
       "function simpleKeys (original) {\n",
       "  return Object.keys(original).reduce(function (obj, key) {\n",
       "    if (typeof original[key] !== 'object')\n",
       "        obj[key] = original[key]\n",
       "    return obj;\n",
       "  }, {});\n",
       "}\n",
       "\n",
       "mpl.figure.prototype.mouse_event = function(event, name) {\n",
       "    var canvas_pos = mpl.findpos(event)\n",
       "\n",
       "    if (name === 'button_press')\n",
       "    {\n",
       "        this.canvas.focus();\n",
       "        this.canvas_div.focus();\n",
       "    }\n",
       "\n",
       "    var x = canvas_pos.x;\n",
       "    var y = canvas_pos.y;\n",
       "\n",
       "    this.send_message(name, {x: x, y: y, button: event.button,\n",
       "                             step: event.step,\n",
       "                             guiEvent: simpleKeys(event)});\n",
       "\n",
       "    /* This prevents the web browser from automatically changing to\n",
       "     * the text insertion cursor when the button is pressed.  We want\n",
       "     * to control all of the cursor setting manually through the\n",
       "     * 'cursor' event from matplotlib */\n",
       "    event.preventDefault();\n",
       "    return false;\n",
       "}\n",
       "\n",
       "mpl.figure.prototype._key_event_extra = function(event, name) {\n",
       "    // Handle any extra behaviour associated with a key event\n",
       "}\n",
       "\n",
       "mpl.figure.prototype.key_event = function(event, name) {\n",
       "\n",
       "    // Prevent repeat events\n",
       "    if (name == 'key_press')\n",
       "    {\n",
       "        if (event.which === this._key)\n",
       "            return;\n",
       "        else\n",
       "            this._key = event.which;\n",
       "    }\n",
       "    if (name == 'key_release')\n",
       "        this._key = null;\n",
       "\n",
       "    var value = '';\n",
       "    if (event.ctrlKey && event.which != 17)\n",
       "        value += \"ctrl+\";\n",
       "    if (event.altKey && event.which != 18)\n",
       "        value += \"alt+\";\n",
       "    if (event.shiftKey && event.which != 16)\n",
       "        value += \"shift+\";\n",
       "\n",
       "    value += 'k';\n",
       "    value += event.which.toString();\n",
       "\n",
       "    this._key_event_extra(event, name);\n",
       "\n",
       "    this.send_message(name, {key: value,\n",
       "                             guiEvent: simpleKeys(event)});\n",
       "    return false;\n",
       "}\n",
       "\n",
       "mpl.figure.prototype.toolbar_button_onclick = function(name) {\n",
       "    if (name == 'download') {\n",
       "        this.handle_save(this, null);\n",
       "    } else {\n",
       "        this.send_message(\"toolbar_button\", {name: name});\n",
       "    }\n",
       "};\n",
       "\n",
       "mpl.figure.prototype.toolbar_button_onmouseover = function(tooltip) {\n",
       "    this.message.textContent = tooltip;\n",
       "};\n",
       "mpl.toolbar_items = [[\"Home\", \"Reset original view\", \"fa fa-home icon-home\", \"home\"], [\"Back\", \"Back to  previous view\", \"fa fa-arrow-left icon-arrow-left\", \"back\"], [\"Forward\", \"Forward to next view\", \"fa fa-arrow-right icon-arrow-right\", \"forward\"], [\"\", \"\", \"\", \"\"], [\"Pan\", \"Pan axes with left mouse, zoom with right\", \"fa fa-arrows icon-move\", \"pan\"], [\"Zoom\", \"Zoom to rectangle\", \"fa fa-square-o icon-check-empty\", \"zoom\"], [\"\", \"\", \"\", \"\"], [\"Download\", \"Download plot\", \"fa fa-floppy-o icon-save\", \"download\"]];\n",
       "\n",
       "mpl.extensions = [\"eps\", \"jpeg\", \"pdf\", \"png\", \"ps\", \"raw\", \"svg\", \"tif\"];\n",
       "\n",
       "mpl.default_extension = \"png\";var comm_websocket_adapter = function(comm) {\n",
       "    // Create a \"websocket\"-like object which calls the given IPython comm\n",
       "    // object with the appropriate methods. Currently this is a non binary\n",
       "    // socket, so there is still some room for performance tuning.\n",
       "    var ws = {};\n",
       "\n",
       "    ws.close = function() {\n",
       "        comm.close()\n",
       "    };\n",
       "    ws.send = function(m) {\n",
       "        //console.log('sending', m);\n",
       "        comm.send(m);\n",
       "    };\n",
       "    // Register the callback with on_msg.\n",
       "    comm.on_msg(function(msg) {\n",
       "        //console.log('receiving', msg['content']['data'], msg);\n",
       "        // Pass the mpl event to the overriden (by mpl) onmessage function.\n",
       "        ws.onmessage(msg['content']['data'])\n",
       "    });\n",
       "    return ws;\n",
       "}\n",
       "\n",
       "mpl.mpl_figure_comm = function(comm, msg) {\n",
       "    // This is the function which gets called when the mpl process\n",
       "    // starts-up an IPython Comm through the \"matplotlib\" channel.\n",
       "\n",
       "    var id = msg.content.data.id;\n",
       "    // Get hold of the div created by the display call when the Comm\n",
       "    // socket was opened in Python.\n",
       "    var element = $(\"#\" + id);\n",
       "    var ws_proxy = comm_websocket_adapter(comm)\n",
       "\n",
       "    function ondownload(figure, format) {\n",
       "        window.open(figure.imageObj.src);\n",
       "    }\n",
       "\n",
       "    var fig = new mpl.figure(id, ws_proxy,\n",
       "                           ondownload,\n",
       "                           element.get(0));\n",
       "\n",
       "    // Call onopen now - mpl needs it, as it is assuming we've passed it a real\n",
       "    // web socket which is closed, not our websocket->open comm proxy.\n",
       "    ws_proxy.onopen();\n",
       "\n",
       "    fig.parent_element = element.get(0);\n",
       "    fig.cell_info = mpl.find_output_cell(\"<div id='\" + id + \"'></div>\");\n",
       "    if (!fig.cell_info) {\n",
       "        console.error(\"Failed to find cell for figure\", id, fig);\n",
       "        return;\n",
       "    }\n",
       "\n",
       "    var output_index = fig.cell_info[2]\n",
       "    var cell = fig.cell_info[0];\n",
       "\n",
       "};\n",
       "\n",
       "mpl.figure.prototype.handle_close = function(fig, msg) {\n",
       "    fig.root.unbind('remove')\n",
       "\n",
       "    // Update the output cell to use the data from the current canvas.\n",
       "    fig.push_to_output();\n",
       "    var dataURL = fig.canvas.toDataURL();\n",
       "    // Re-enable the keyboard manager in IPython - without this line, in FF,\n",
       "    // the notebook keyboard shortcuts fail.\n",
       "    IPython.keyboard_manager.enable()\n",
       "    $(fig.parent_element).html('<img src=\"' + dataURL + '\">');\n",
       "    fig.close_ws(fig, msg);\n",
       "}\n",
       "\n",
       "mpl.figure.prototype.close_ws = function(fig, msg){\n",
       "    fig.send_message('closing', msg);\n",
       "    // fig.ws.close()\n",
       "}\n",
       "\n",
       "mpl.figure.prototype.push_to_output = function(remove_interactive) {\n",
       "    // Turn the data on the canvas into data in the output cell.\n",
       "    var dataURL = this.canvas.toDataURL();\n",
       "    this.cell_info[1]['text/html'] = '<img src=\"' + dataURL + '\">';\n",
       "}\n",
       "\n",
       "mpl.figure.prototype.updated_canvas_event = function() {\n",
       "    // Tell IPython that the notebook contents must change.\n",
       "    IPython.notebook.set_dirty(true);\n",
       "    this.send_message(\"ack\", {});\n",
       "    var fig = this;\n",
       "    // Wait a second, then push the new image to the DOM so\n",
       "    // that it is saved nicely (might be nice to debounce this).\n",
       "    setTimeout(function () { fig.push_to_output() }, 1000);\n",
       "}\n",
       "\n",
       "mpl.figure.prototype._init_toolbar = function() {\n",
       "    var fig = this;\n",
       "\n",
       "    var nav_element = $('<div/>')\n",
       "    nav_element.attr('style', 'width: 100%');\n",
       "    this.root.append(nav_element);\n",
       "\n",
       "    // Define a callback function for later on.\n",
       "    function toolbar_event(event) {\n",
       "        return fig.toolbar_button_onclick(event['data']);\n",
       "    }\n",
       "    function toolbar_mouse_event(event) {\n",
       "        return fig.toolbar_button_onmouseover(event['data']);\n",
       "    }\n",
       "\n",
       "    for(var toolbar_ind in mpl.toolbar_items){\n",
       "        var name = mpl.toolbar_items[toolbar_ind][0];\n",
       "        var tooltip = mpl.toolbar_items[toolbar_ind][1];\n",
       "        var image = mpl.toolbar_items[toolbar_ind][2];\n",
       "        var method_name = mpl.toolbar_items[toolbar_ind][3];\n",
       "\n",
       "        if (!name) { continue; };\n",
       "\n",
       "        var button = $('<button class=\"btn btn-default\" href=\"#\" title=\"' + name + '\"><i class=\"fa ' + image + ' fa-lg\"></i></button>');\n",
       "        button.click(method_name, toolbar_event);\n",
       "        button.mouseover(tooltip, toolbar_mouse_event);\n",
       "        nav_element.append(button);\n",
       "    }\n",
       "\n",
       "    // Add the status bar.\n",
       "    var status_bar = $('<span class=\"mpl-message\" style=\"text-align:right; float: right;\"/>');\n",
       "    nav_element.append(status_bar);\n",
       "    this.message = status_bar[0];\n",
       "\n",
       "    // Add the close button to the window.\n",
       "    var buttongrp = $('<div class=\"btn-group inline pull-right\"></div>');\n",
       "    var button = $('<button class=\"btn btn-mini btn-primary\" href=\"#\" title=\"Stop Interaction\"><i class=\"fa fa-power-off icon-remove icon-large\"></i></button>');\n",
       "    button.click(function (evt) { fig.handle_close(fig, {}); } );\n",
       "    button.mouseover('Stop Interaction', toolbar_mouse_event);\n",
       "    buttongrp.append(button);\n",
       "    var titlebar = this.root.find($('.ui-dialog-titlebar'));\n",
       "    titlebar.prepend(buttongrp);\n",
       "}\n",
       "\n",
       "mpl.figure.prototype._root_extra_style = function(el){\n",
       "    var fig = this\n",
       "    el.on(\"remove\", function(){\n",
       "\tfig.close_ws(fig, {});\n",
       "    });\n",
       "}\n",
       "\n",
       "mpl.figure.prototype._canvas_extra_style = function(el){\n",
       "    // this is important to make the div 'focusable\n",
       "    el.attr('tabindex', 0)\n",
       "    // reach out to IPython and tell the keyboard manager to turn it's self\n",
       "    // off when our div gets focus\n",
       "\n",
       "    // location in version 3\n",
       "    if (IPython.notebook.keyboard_manager) {\n",
       "        IPython.notebook.keyboard_manager.register_events(el);\n",
       "    }\n",
       "    else {\n",
       "        // location in version 2\n",
       "        IPython.keyboard_manager.register_events(el);\n",
       "    }\n",
       "\n",
       "}\n",
       "\n",
       "mpl.figure.prototype._key_event_extra = function(event, name) {\n",
       "    var manager = IPython.notebook.keyboard_manager;\n",
       "    if (!manager)\n",
       "        manager = IPython.keyboard_manager;\n",
       "\n",
       "    // Check for shift+enter\n",
       "    if (event.shiftKey && event.which == 13) {\n",
       "        this.canvas_div.blur();\n",
       "        event.shiftKey = false;\n",
       "        // Send a \"J\" for go to next cell\n",
       "        event.which = 74;\n",
       "        event.keyCode = 74;\n",
       "        manager.command_mode();\n",
       "        manager.handle_keydown(event);\n",
       "    }\n",
       "}\n",
       "\n",
       "mpl.figure.prototype.handle_save = function(fig, msg) {\n",
       "    fig.ondownload(fig, null);\n",
       "}\n",
       "\n",
       "\n",
       "mpl.find_output_cell = function(html_output) {\n",
       "    // Return the cell and output element which can be found *uniquely* in the notebook.\n",
       "    // Note - this is a bit hacky, but it is done because the \"notebook_saving.Notebook\"\n",
       "    // IPython event is triggered only after the cells have been serialised, which for\n",
       "    // our purposes (turning an active figure into a static one), is too late.\n",
       "    var cells = IPython.notebook.get_cells();\n",
       "    var ncells = cells.length;\n",
       "    for (var i=0; i<ncells; i++) {\n",
       "        var cell = cells[i];\n",
       "        if (cell.cell_type === 'code'){\n",
       "            for (var j=0; j<cell.output_area.outputs.length; j++) {\n",
       "                var data = cell.output_area.outputs[j];\n",
       "                if (data.data) {\n",
       "                    // IPython >= 3 moved mimebundle to data attribute of output\n",
       "                    data = data.data;\n",
       "                }\n",
       "                if (data['text/html'] == html_output) {\n",
       "                    return [cell, data, j];\n",
       "                }\n",
       "            }\n",
       "        }\n",
       "    }\n",
       "}\n",
       "\n",
       "// Register the function which deals with the matplotlib target/channel.\n",
       "// The kernel may be null if the page has been refreshed.\n",
       "if (IPython.notebook.kernel != null) {\n",
       "    IPython.notebook.kernel.comm_manager.register_target('matplotlib', mpl.mpl_figure_comm);\n",
       "}\n"
      ],
      "text/plain": [
       "<IPython.core.display.Javascript object>"
      ]
     },
     "metadata": {},
     "output_type": "display_data"
    },
    {
     "data": {
      "text/html": [
       "<img src=\"data:image/png;base64,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\">"
      ],
      "text/plain": [
       "<IPython.core.display.HTML object>"
      ]
     },
     "metadata": {},
     "output_type": "display_data"
    }
   ],
   "source": [
    "G = nx.Graph()\n",
    "\n",
    "G.add_node(1)\n",
    "G.add_node(2)\n",
    "G.add_node(3)\n",
    "G.add_node(4)\n",
    "G.node[1]['name'] = 'Paul'\n",
    "G.node[2]['name'] = 'Pierre'\n",
    "G.node[3]['name'] = 'Sophie'\n",
    "G.node[4]['name'] = 'Caroline'\n",
    "\n",
    "G.add_edge(1,2)\n",
    "G.add_edge(2,3)\n",
    "G.add_edge(3,4)\n",
    "\n",
    "nx.draw_networkx(G)"
   ]
  },
  {
   "cell_type": "markdown",
   "metadata": {},
   "source": [
    "## We load the graph of the Florentine Families"
   ]
  },
  {
   "cell_type": "code",
   "execution_count": 85,
   "metadata": {
    "collapsed": false
   },
   "outputs": [],
   "source": [
    "import csv\n",
    "import networkx as nx\n",
    "\n",
    "with open('Data/Florence/FlorentineFamiliesName.csv', 'r') as csvfile:\n",
    "    nodeReader = csv.reader(csvfile, delimiter=' ')\n",
    "    line = 0\n",
    "    labels = {}\n",
    "    for row in nodeReader:\n",
    "        if line > 0:\n",
    "            labels[int(row[0])] = row[1]\n",
    "        line += 1\n",
    "\n",
    "\n",
    "# Create the graph\n",
    "G = nx.Graph()\n",
    "with open('Data/Florence/FlorentineFamiliesNodes.csv', 'r') as csvfile:\n",
    "    nodeReader = csv.reader(csvfile, delimiter=' ')\n",
    "    line = 0\n",
    "    for row in nodeReader:\n",
    "        G.add_node(int(row[1]),label=labels[int(row[1])])\n",
    "        G.add_node(int(row[2]),label=labels[int(row[2])])\n",
    "        G.add_edge(int(row[1]),int(row[2]), weight=float(row[3]))\n",
    "    \n",
    "\n",
    "labels=dict((n,d['label']) for n,d in G.nodes(data=True))"
   ]
  },
  {
   "cell_type": "markdown",
   "metadata": {},
   "source": [
    "## Plot the Graph of the Florentine Families with labels\n",
    "\n",
    "[Plotting Graph with networkx](https://networkx.github.io/documentation/latest/reference/generated/networkx.drawing.nx_pylab.draw_networkx.html#networkx.drawing.nx_pylab.draw_networkx)"
   ]
  },
  {
   "cell_type": "code",
   "execution_count": 24,
   "metadata": {
    "collapsed": false
   },
   "outputs": [
    {
     "ename": "NameError",
     "evalue": "name 'G' is not defined",
     "output_type": "error",
     "traceback": [
      "\u001b[0;31m---------------------------------------------------------------------------\u001b[0m",
      "\u001b[0;31mNameError\u001b[0m                                 Traceback (most recent call last)",
      "\u001b[0;32m<ipython-input-24-8a32c7134999>\u001b[0m in \u001b[0;36m<module>\u001b[0;34m()\u001b[0m\n\u001b[1;32m      1\u001b[0m \u001b[0mget_ipython\u001b[0m\u001b[0;34m(\u001b[0m\u001b[0;34m)\u001b[0m\u001b[0;34m.\u001b[0m\u001b[0mmagic\u001b[0m\u001b[0;34m(\u001b[0m\u001b[0;34m'matplotlib nbagg'\u001b[0m\u001b[0;34m)\u001b[0m\u001b[0;34m\u001b[0m\u001b[0m\n\u001b[1;32m      2\u001b[0m \u001b[0;34m\u001b[0m\u001b[0m\n\u001b[0;32m----> 3\u001b[0;31m \u001b[0mpos\u001b[0m\u001b[0;34m=\u001b[0m\u001b[0mnx\u001b[0m\u001b[0;34m.\u001b[0m\u001b[0mspring_layout\u001b[0m\u001b[0;34m(\u001b[0m\u001b[0mG\u001b[0m\u001b[0;34m)\u001b[0m\u001b[0;34m\u001b[0m\u001b[0m\n\u001b[0m\u001b[1;32m      4\u001b[0m nx.draw_networkx_nodes(G,pos,\n\u001b[1;32m      5\u001b[0m                        \u001b[0mnode_color\u001b[0m\u001b[0;34m=\u001b[0m\u001b[0;34m'r'\u001b[0m\u001b[0;34m,\u001b[0m\u001b[0;34m\u001b[0m\u001b[0m\n",
      "\u001b[0;31mNameError\u001b[0m: name 'G' is not defined"
     ]
    }
   ],
   "source": [
    "%matplotlib nbagg\n",
    "\n",
    "pos=nx.spring_layout(G)\n",
    "nx.draw_networkx_nodes(G,pos,\n",
    "                       node_color='r',\n",
    "                       node_size=500,\n",
    "                       alpha=0.8)\n",
    "\n",
    "nx.draw_networkx_edges(G,pos,width=1.0,alpha=0.5)\n",
    "nx.draw_networkx_labels(G,pos,labels,font_size=9)"
   ]
  },
  {
   "cell_type": "markdown",
   "metadata": {},
   "source": [
    "## Compute the closeness centrality of the graph"
   ]
  },
  {
   "cell_type": "code",
   "execution_count": 89,
   "metadata": {
    "collapsed": false
   },
   "outputs": [
    {
     "name": "stdout",
     "output_type": "stream",
     "text": [
      "ACCIAIUOL 0.4\n",
      "ALBIZZI 0.5\n",
      "BARBADORI 0.56\n",
      "BISCHERI 0.4375\n",
      "CASTELLAN 0.4827586206896552\n",
      "GINORI 0.5\n",
      "GUADAGNI 0.5\n",
      "LAMBERTES 0.42424242424242425\n",
      "MEDICI 0.6363636363636364\n",
      "PAZZI 0.4117647058823529\n",
      "PERUZZI 0.5\n",
      "RIDOLFI 0.5384615384615384\n",
      "SALVIATI 0.4117647058823529\n",
      "STROZZI 0.4827586206896552\n",
      "TORNABUON 0.5185185185185185\n"
     ]
    }
   ],
   "source": [
    "# TODO\n",
    "w=nx.get_edge_attributes(G, 'weight')\n",
    "betweenness = nx.closeness_centrality(G)\n",
    "for n, b in betweenness.items():\n",
    "    print(labels[n], b)"
   ]
  },
  {
   "cell_type": "markdown",
   "metadata": {},
   "source": [
    "## Plot the graph with de node size as function of the closeness centrality"
   ]
  },
  {
   "cell_type": "code",
   "execution_count": 3,
   "metadata": {
    "collapsed": true
   },
   "outputs": [],
   "source": [
    "# TODO"
   ]
  },
  {
   "cell_type": "markdown",
   "metadata": {},
   "source": [
    "## Global Trade Network\n",
    "\n",
    "In the following we shall use the United Nation Commodity Trade Statistics Database (UN COMTRADE) data. Using one of the network analysis tools above, load the network. Submit a table with the following statistics of the global trade network. This is a directed graph G(V, E, W), with node set V and edge set E = {(a, b); a ∈ V, b ∈ V } where (a, b) are the edges between two country, and W is the weight ie the amount of trade in Dollars between country a and b.\n",
    "\n",
    "Compute and print out the following statistics for the global trade network:\n",
    "1. What percentage of the edges are reciprocal?\n",
    "2. Rank the top 10 countries by in-degree (the number of other countries they import from)\n",
    "3. Sum the weights of the outbound edges for each country and report total exports for each of the top 5. \n",
    "4. Which country has the greatest difference between unweighted in and out-degree?\n",
    "5. Which country has the greatest closeness (becareful of the weight) \n",
    "\n",
    "#### Tips: sort a dictionnary by value \n",
    "\n",
    "```Python \n",
    ">>> from collections import OrderedDict\n",
    ">>> d = {1: 3, 2: 1, 3: 5}\n",
    ">>> d_sorted_by_value = OrderedDict(sorted(d.items(), key=lambda x: x[1], reverse=True))\n",
    ">>> for k, v in d_sorted_by_value.items():\n",
    "...        print(k,v)\n",
    "3 5\n",
    "1 3\n",
    "2 1\n",
    "```\n",
    "\n",
    "#### References \n",
    "1. [documentation of the closeness_centrality](https://networkx.github.io/documentation/networkx-1.10/reference/generated/networkx.algorithms.centrality.closeness_centrality.html?highlight=closeness_centrality#networkx.algorithms.centrality.closeness_centrality)"
   ]
  },
  {
   "cell_type": "code",
   "execution_count": 1,
   "metadata": {
    "collapsed": false
   },
   "outputs": [
    {
     "name": "stdout",
     "output_type": "stream",
     "text": [
      "trade between China and USA = 127938204004.0 dollars\n"
     ]
    }
   ],
   "source": [
    "import networkx as nx\n",
    "# load the global trade graph \n",
    "Gtrade = nx.read_gpickle(\"./Data/Comtrade/comtrade.gpickle\")\n",
    "\n",
    "print(\"trade between\", Gtrade.node[156][\"name\"], \"and\", Gtrade.node[842][\"name\"], \"=\", Gtrade[156][842][\"weight\"], \"dollars\")"
   ]
  },
  {
   "cell_type": "markdown",
   "metadata": {},
   "source": [
    "### 1. What percentage of the edges are reciprocal?"
   ]
  },
  {
   "cell_type": "code",
   "execution_count": 3,
   "metadata": {
    "collapsed": false
   },
   "outputs": [
    {
     "name": "stdout",
     "output_type": "stream",
     "text": [
      "percentage of reciprocal edges:  0.8389663452922834\n"
     ]
    }
   ],
   "source": [
    "num_edges = len(Gtrade.edges())\n",
    "num_reciprocal = 0\n",
    "\n",
    "for s,t in Gtrade.edges():\n",
    "    if Gtrade.has_edge(t, s):\n",
    "        num_reciprocal += 1\n",
    "        \n",
    "print(\"percentage of reciprocal edges: \", num_reciprocal/num_edges)"
   ]
  },
  {
   "cell_type": "markdown",
   "metadata": {},
   "source": [
    "### Rank the top 10 countries by in-degree (the number of other countries they import from)"
   ]
  },
  {
   "cell_type": "code",
   "execution_count": 8,
   "metadata": {
    "collapsed": false
   },
   "outputs": [
    {
     "name": "stdout",
     "output_type": "stream",
     "text": [
      "# 1 Germany indegree: 225\n",
      "# 2 France indegree: 224\n",
      "# 3 Austria indegree: 223\n",
      "# 4 USA indegree: 220\n",
      "# 5 Canada indegree: 216\n",
      "# 6 Thailand indegree: 216\n",
      "# 7 Rep. of Korea indegree: 216\n",
      "# 8 United Kingdom indegree: 215\n",
      "# 9 Spain indegree: 214\n",
      "# 10 Italy indegree: 214\n",
      "# 11 Japan indegree: 213\n"
     ]
    }
   ],
   "source": [
    "from collections import OrderedDict\n",
    "\n",
    "in_degree_dict = Gtrade.in_degree(Gtrade.nodes())\n",
    "in_degree_dict_sorted_by_value = OrderedDict(sorted(in_degree_dict.items(), key=lambda x: x[1], reverse=True))\n",
    "\n",
    "num_elem = 0\n",
    "for k, v in in_degree_dict_sorted_by_value.items():\n",
    "    num_elem += 1\n",
    "    print(\"#\", num_elem, Gtrade.node[k][\"name\"],\"indegree:\",v)\n",
    "    if num_elem > 10:\n",
    "        break"
   ]
  },
  {
   "cell_type": "markdown",
   "metadata": {},
   "source": [
    "### Sum the weights of the outbound edges for each country and report total exports for each of the top 5."
   ]
  },
  {
   "cell_type": "code",
   "execution_count": 13,
   "metadata": {
    "collapsed": false
   },
   "outputs": [
    {
     "name": "stdout",
     "output_type": "stream",
     "text": [
      "# 1 Germany Volume of exportation: 726814382422.5\n",
      "# 2 USA Volume of exportation: 724553461173.0\n",
      "# 3 China Volume of exportation: 516814730156.0\n",
      "# 4 Japan Volume of exportation: 465603252249.0\n",
      "# 5 France Volume of exportation: 358192221910.0\n",
      "# 6 United Kingdom Volume of exportation: 297237298569.0\n",
      "# 7 Italy Volume of exportation: 287022497540.5\n",
      "# 8 Canada Volume of exportation: 273884847347.5\n",
      "# 9 Netherlands Volume of exportation: 245998496417.5\n",
      "# 10 Belgium Volume of exportation: 221031175673.0\n",
      "# 11 Rep. of Korea Volume of exportation: 192062342468.0\n"
     ]
    }
   ],
   "source": [
    "country_export = dict()\n",
    "\n",
    "for node in Gtrade.nodes():\n",
    "    volume_export = 0.0\n",
    "    for neighbor in Gtrade.neighbors(node):\n",
    "        volume_export += Gtrade[node][neighbor][\"weight\"]\n",
    "    country_export[node] = volume_export\n",
    "\n",
    "country_export_sorted_by_value = OrderedDict(sorted(country_export.items(), key=lambda x: x[1], reverse=True))\n",
    "num_elem = 0\n",
    "for k, v in country_export_sorted_by_value.items():\n",
    "    num_elem += 1\n",
    "    print(\"#\", num_elem, Gtrade.node[k][\"name\"],\"Volume of exportation:\",v)\n",
    "    if num_elem > 10:\n",
    "        break"
   ]
  },
  {
   "cell_type": "markdown",
   "metadata": {},
   "source": [
    "### Which country has the greatest difference between unweighted in and out-degree?"
   ]
  },
  {
   "cell_type": "code",
   "execution_count": 18,
   "metadata": {
    "collapsed": false
   },
   "outputs": [
    {
     "name": "stdout",
     "output_type": "stream",
     "text": [
      "# 1 Faeroe Isds diff in out: 97\n",
      "# 2 Mayotte diff in out: 86\n",
      "# 3 New Caledonia diff in out: 72\n",
      "# 4 Nigeria diff in out: 68\n",
      "# 5 Greenland diff in out: 66\n",
      "# 6 French Polynesia diff in out: 61\n",
      "# 7 Saint Kitts and Nevis diff in out: 54\n",
      "# 8 Sri Lanka diff in out: 52\n",
      "# 9 Iran diff in out: 52\n",
      "# 10 Cape Verde diff in out: 48\n",
      "# 11 Saint Vincent and the Grenadines diff in out: 47\n"
     ]
    }
   ],
   "source": [
    "diff_in_out = dict()\n",
    "\n",
    "for node in Gtrade.nodes():\n",
    "    diff_in_out[node] = Gtrade.in_degree(node) - Gtrade.out_degree(node)\n",
    "    \n",
    "diff_in_out_sorted_by_value = OrderedDict(sorted(diff_in_out.items(), key=lambda x: x[1], reverse=True))\n",
    "num_elem = 0\n",
    "for k, v in diff_in_out_sorted_by_value.items():\n",
    "    num_elem += 1\n",
    "    print(\"#\", num_elem, Gtrade.node[k][\"name\"],\"diff in out:\",v)\n",
    "    if num_elem > 10:\n",
    "        break"
   ]
  },
  {
   "cell_type": "code",
   "execution_count": 22,
   "metadata": {
    "collapsed": false
   },
   "outputs": [
    {
     "name": "stdout",
     "output_type": "stream",
     "text": [
      "# 1 Germany closeness: 181267.35625115637\n",
      "# 2 USA closeness: 181267.16697102392\n",
      "# 3 China closeness: 181267.0409639036\n",
      "# 4 Canada closeness: 181267.02683724804\n",
      "# 5 Japan closeness: 181267.0059689415\n",
      "# 6 Mexico closeness: 181266.93730173304\n",
      "# 7 France closeness: 181266.9251522417\n",
      "# 8 United Kingdom closeness: 181266.82824466287\n",
      "# 9 Netherlands closeness: 181266.79648301826\n",
      "# 10 Italy closeness: 181266.65106308614\n",
      "# 11 Belgium closeness: 181266.58808354236\n"
     ]
    }
   ],
   "source": [
    "Gtrade_copy = Gtrade.copy()\n",
    "for s,t in Gtrade_copy.edges():\n",
    "    Gtrade_copy[s][t][\"weight\"] = 1.0/Gtrade[s][t][\"weight\"]\n",
    "    \n",
    "closeness = nx.closeness_centrality(Gtrade_copy, distance=\"weight\")\n",
    "\n",
    "closeness_sorted_by_value = OrderedDict(sorted(closeness.items(), key=lambda x: x[1], reverse=True))\n",
    "num_elem = 0\n",
    "for k, v in closeness_sorted_by_value.items():\n",
    "    num_elem += 1\n",
    "    print(\"#\", num_elem, Gtrade.node[k][\"name\"],\"closeness:\",v)\n",
    "    if num_elem > 10:\n",
    "        break"
   ]
  }
 ],
 "metadata": {
  "kernelspec": {
   "display_name": "Python 3",
   "language": "python",
   "name": "python3"
  },
  "language_info": {
   "codemirror_mode": {
    "name": "ipython",
    "version": 3
   },
   "file_extension": ".py",
   "mimetype": "text/x-python",
   "name": "python",
   "nbconvert_exporter": "python",
   "pygments_lexer": "ipython3",
   "version": "3.4.4"
  }
 },
 "nbformat": 4,
 "nbformat_minor": 0
}
